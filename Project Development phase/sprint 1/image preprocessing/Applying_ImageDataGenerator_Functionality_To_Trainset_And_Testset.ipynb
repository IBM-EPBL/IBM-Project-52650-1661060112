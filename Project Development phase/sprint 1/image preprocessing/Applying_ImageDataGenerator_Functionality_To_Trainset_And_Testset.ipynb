{
  "nbformat": 4,
  "nbformat_minor": 0,
  "metadata": {
    "colab": {
      "provenance": [],
      "collapsed_sections": []
    },
    "kernelspec": {
      "name": "python3",
      "display_name": "Python 3"
    },
    "language_info": {
      "name": "python"
    }
  },
  "cells": [
    {
      "cell_type": "markdown",
      "source": [
        "import keras library"
      ],
      "metadata": {
        "id": "ynzMDhVvhlti"
      }
    },
    {
      "cell_type": "code",
      "execution_count": 5,
      "metadata": {
        "id": "_x40WJsehKcx"
      },
      "outputs": [],
      "source": [
        "import keras\n",
        "from keras.preprocessing.image import ImageDataGenerator"
      ]
    },
    {
      "cell_type": "markdown",
      "source": [
        "define the parameters /arguments for ImageDataGenerator class"
      ],
      "metadata": {
        "id": "BYjTTsm9h2xm"
      }
    },
    {
      "cell_type": "markdown",
      "source": [
        "Indented block"
      ],
      "metadata": {
        "id": "gLjlbqVnh8n5"
      }
    },
    {
      "cell_type": "code",
      "source": [
        "train_datagen=ImageDataGenerator(rescale=1./255,\n",
        "                                 shear_range=0.2,\n",
        "                                 rotation_range=180,\n",
        "                                 zoom_range=0.2,\n",
        "                                 horizontal_flip=True)\n",
        "test_datagen=ImageDataGenerator(rescale=1./255)"
      ],
      "metadata": {
        "id": "EptKolrah_UL"
      },
      "execution_count": 6,
      "outputs": []
    },
    {
      "cell_type": "markdown",
      "source": [
        "Double-click (or enter) to edit"
      ],
      "metadata": {
        "id": "fCQZcjG2iCDL"
      }
    },
    {
      "cell_type": "code",
      "source": [
        "x_train = train_datagen.flow_from_directory(r'/content/drive/MyDrive/archive/Dataset/Dataset/train_set',\n",
        "                                              target_size = (128,128),\n",
        "                                              batch_size = 32,\n",
        "                                              class_mode = 'binary')\n"
      ],
      "metadata": {
        "colab": {
          "base_uri": "https://localhost:8080/"
        },
        "id": "9M5ynGnXiFt6",
        "outputId": "f7def1f2-687e-460b-8d77-84537c724079"
      },
      "execution_count": 7,
      "outputs": [
        {
          "output_type": "stream",
          "name": "stdout",
          "text": [
            "Found 436 images belonging to 2 classes.\n"
          ]
        }
      ]
    },
    {
      "cell_type": "code",
      "source": [
        "x_test=test_datagen.flow_from_directory(r'/content/drive/MyDrive/archive/Dataset/Dataset/test_set',\n",
        "                                           target_size = (128,128),\n",
        "                                           batch_size  = 32,\n",
        "                                           class_mode = 'binary')\n"
      ],
      "metadata": {
        "colab": {
          "base_uri": "https://localhost:8080/"
        },
        "id": "3XM_wpmdiR3U",
        "outputId": "65c83b84-0670-4fe2-b719-bdf11b254a2d"
      },
      "execution_count": 13,
      "outputs": [
        {
          "output_type": "stream",
          "name": "stdout",
          "text": [
            "Found 121 images belonging to 2 classes.\n"
          ]
        }
      ]
    }
  ]
}